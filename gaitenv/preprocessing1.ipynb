{
 "cells": [
  {
   "cell_type": "code",
   "execution_count": 1,
   "id": "d99c072b-8066-4d6e-98bc-4404cc365002",
   "metadata": {},
   "outputs": [
    {
     "name": "stdout",
     "output_type": "stream",
     "text": [
      "Mon May 19 10:25:10 2025       \n",
      "+-----------------------------------------------------------------------------+\n",
      "| NVIDIA-SMI 516.25       Driver Version: 516.25       CUDA Version: 11.7     |\n",
      "|-------------------------------+----------------------+----------------------+\n",
      "| GPU  Name            TCC/WDDM | Bus-Id        Disp.A | Volatile Uncorr. ECC |\n",
      "| Fan  Temp  Perf  Pwr:Usage/Cap|         Memory-Usage | GPU-Util  Compute M. |\n",
      "|                               |                      |               MIG M. |\n",
      "|===============================+======================+======================|\n",
      "|   0  NVIDIA RTX A4000   WDDM  | 00000000:65:00.0  On |                  Off |\n",
      "| 41%   45C    P8    10W / 140W |    842MiB / 16376MiB |      1%      Default |\n",
      "|                               |                      |                  N/A |\n",
      "+-------------------------------+----------------------+----------------------+\n",
      "                                                                               \n",
      "+-----------------------------------------------------------------------------+\n",
      "| Processes:                                                                  |\n",
      "|  GPU   GI   CI        PID   Type   Process name                  GPU Memory |\n",
      "|        ID   ID                                                   Usage      |\n",
      "|=============================================================================|\n",
      "|    0   N/A  N/A      3156    C+G   ...ws\\System32\\ShellHost.exe    N/A      |\n",
      "|    0   N/A  N/A      4436    C+G   ...\\ApplicationFrameHost.exe    N/A      |\n",
      "|    0   N/A  N/A      6076    C+G   ...me\\Application\\chrome.exe    N/A      |\n",
      "|    0   N/A  N/A      6800    C+G   C:\\Windows\\explorer.exe         N/A      |\n",
      "|    0   N/A  N/A      9076    C+G   ...me\\Application\\chrome.exe    N/A      |\n",
      "|    0   N/A  N/A     10520    C+G   ...oft\\OneDrive\\OneDrive.exe    N/A      |\n",
      "|    0   N/A  N/A     12184    C+G   ...ge\\Application\\msedge.exe    N/A      |\n",
      "|    0   N/A  N/A     15332    C+G   ...8bbwe\\WindowsTerminal.exe    N/A      |\n",
      "|    0   N/A  N/A     17052    C+G   ...lPanel\\SystemSettings.exe    N/A      |\n",
      "|    0   N/A  N/A     19012    C+G   ...y\\ShellExperienceHost.exe    N/A      |\n",
      "|    0   N/A  N/A     20364    C+G   ...n1h2txyewy\\SearchHost.exe    N/A      |\n",
      "|    0   N/A  N/A     20388    C+G   ...artMenuExperienceHost.exe    N/A      |\n",
      "|    0   N/A  N/A     20864    C+G   ...240.50\\msedgewebview2.exe    N/A      |\n",
      "|    0   N/A  N/A     22272    C+G   ...cw5n1h2txyewy\\LockApp.exe    N/A      |\n",
      "+-----------------------------------------------------------------------------+\n"
     ]
    }
   ],
   "source": [
    "!nvidia-smi\n"
   ]
  },
  {
   "cell_type": "code",
   "execution_count": 2,
   "id": "7ad33158-4c2f-469e-84d1-2cef0ece19ff",
   "metadata": {},
   "outputs": [],
   "source": [
    "import pandas as pd\n",
    "import numpy as np\n",
    "import os\n",
    "import glob"
   ]
  },
  {
   "cell_type": "code",
   "execution_count": 3,
   "id": "74e48eb1-4a47-48a8-aff6-5444d249774e",
   "metadata": {},
   "outputs": [],
   "source": [
    "os.chdir(\"gait-in-neurodegenerative-disease-database-1.0.0\")"
   ]
  },
  {
   "cell_type": "code",
   "execution_count": 4,
   "id": "f349f86e-065e-4eb5-b7fc-091cbe28ca71",
   "metadata": {},
   "outputs": [
    {
     "data": {
      "text/html": [
       "<div>\n",
       "<style scoped>\n",
       "    .dataframe tbody tr th:only-of-type {\n",
       "        vertical-align: middle;\n",
       "    }\n",
       "\n",
       "    .dataframe tbody tr th {\n",
       "        vertical-align: top;\n",
       "    }\n",
       "\n",
       "    .dataframe thead th {\n",
       "        text-align: right;\n",
       "    }\n",
       "</style>\n",
       "<table border=\"1\" class=\"dataframe\">\n",
       "  <thead>\n",
       "    <tr style=\"text-align: right;\">\n",
       "      <th></th>\n",
       "      <th>Unnamed: 0</th>\n",
       "      <th>GROUP</th>\n",
       "      <th>AGE(YRS)</th>\n",
       "      <th>HEIGHT(meters)</th>\n",
       "      <th>Weight(kg)</th>\n",
       "      <th>gender</th>\n",
       "      <th>GaitSpeed(m/sec)</th>\n",
       "      <th>Duration/Severity</th>\n",
       "    </tr>\n",
       "  </thead>\n",
       "  <tbody>\n",
       "    <tr>\n",
       "      <th>0</th>\n",
       "      <td>control1</td>\n",
       "      <td>control</td>\n",
       "      <td>57.0</td>\n",
       "      <td>1.94</td>\n",
       "      <td>95</td>\n",
       "      <td>f</td>\n",
       "      <td>1.33</td>\n",
       "      <td>0.0</td>\n",
       "    </tr>\n",
       "    <tr>\n",
       "      <th>1</th>\n",
       "      <td>control2</td>\n",
       "      <td>control</td>\n",
       "      <td>22.0</td>\n",
       "      <td>1.94</td>\n",
       "      <td>70</td>\n",
       "      <td>m</td>\n",
       "      <td>1.47</td>\n",
       "      <td>0.0</td>\n",
       "    </tr>\n",
       "    <tr>\n",
       "      <th>2</th>\n",
       "      <td>control3</td>\n",
       "      <td>control</td>\n",
       "      <td>23.0</td>\n",
       "      <td>1.83</td>\n",
       "      <td>66</td>\n",
       "      <td>f</td>\n",
       "      <td>1.44</td>\n",
       "      <td>0.0</td>\n",
       "    </tr>\n",
       "    <tr>\n",
       "      <th>3</th>\n",
       "      <td>control4</td>\n",
       "      <td>control</td>\n",
       "      <td>52.0</td>\n",
       "      <td>1.78</td>\n",
       "      <td>73</td>\n",
       "      <td>f</td>\n",
       "      <td>1.54</td>\n",
       "      <td>0.0</td>\n",
       "    </tr>\n",
       "    <tr>\n",
       "      <th>4</th>\n",
       "      <td>control5</td>\n",
       "      <td>control</td>\n",
       "      <td>47.0</td>\n",
       "      <td>1.94</td>\n",
       "      <td>82</td>\n",
       "      <td>f</td>\n",
       "      <td>1.54</td>\n",
       "      <td>0.0</td>\n",
       "    </tr>\n",
       "  </tbody>\n",
       "</table>\n",
       "</div>"
      ],
      "text/plain": [
       "  Unnamed: 0    GROUP  AGE(YRS)  HEIGHT(meters) Weight(kg) gender  \\\n",
       "0   control1  control      57.0            1.94         95      f   \n",
       "1   control2  control      22.0            1.94         70      m   \n",
       "2   control3  control      23.0            1.83         66      f   \n",
       "3   control4  control      52.0            1.78         73      f   \n",
       "4   control5  control      47.0            1.94         82      f   \n",
       "\n",
       "  GaitSpeed(m/sec)  Duration/Severity  \n",
       "0             1.33                0.0  \n",
       "1             1.47                0.0  \n",
       "2             1.44                0.0  \n",
       "3             1.54                0.0  \n",
       "4             1.54                0.0  "
      ]
     },
     "execution_count": 4,
     "metadata": {},
     "output_type": "execute_result"
    }
   ],
   "source": [
    "subject_info = pd.read_csv(\"subject-description.txt\", sep=\"\\t\")\n",
    "subject_info.head()"
   ]
  },
  {
   "cell_type": "code",
   "execution_count": 5,
   "id": "372abbb9-cec5-4e70-b305-b6f758eb45ee",
   "metadata": {},
   "outputs": [
    {
     "data": {
      "text/html": [
       "<div>\n",
       "<style scoped>\n",
       "    .dataframe tbody tr th:only-of-type {\n",
       "        vertical-align: middle;\n",
       "    }\n",
       "\n",
       "    .dataframe tbody tr th {\n",
       "        vertical-align: top;\n",
       "    }\n",
       "\n",
       "    .dataframe thead th {\n",
       "        text-align: right;\n",
       "    }\n",
       "</style>\n",
       "<table border=\"1\" class=\"dataframe\">\n",
       "  <thead>\n",
       "    <tr style=\"text-align: right;\">\n",
       "      <th></th>\n",
       "      <th>Unnamed: 0</th>\n",
       "      <th>GROUP</th>\n",
       "      <th>AGE(YRS)</th>\n",
       "      <th>HEIGHT(meters)</th>\n",
       "      <th>Weight(kg)</th>\n",
       "      <th>gender</th>\n",
       "      <th>GaitSpeed(m/sec)</th>\n",
       "      <th>Duration/Severity</th>\n",
       "    </tr>\n",
       "  </thead>\n",
       "  <tbody>\n",
       "    <tr>\n",
       "      <th>60</th>\n",
       "      <td>als9</td>\n",
       "      <td>subjects</td>\n",
       "      <td>50.0</td>\n",
       "      <td>1.58</td>\n",
       "      <td>61.24</td>\n",
       "      <td>m</td>\n",
       "      <td>0.899</td>\n",
       "      <td>54.0</td>\n",
       "    </tr>\n",
       "    <tr>\n",
       "      <th>61</th>\n",
       "      <td>als10</td>\n",
       "      <td>subjects</td>\n",
       "      <td>40.0</td>\n",
       "      <td>1.70</td>\n",
       "      <td>61.24</td>\n",
       "      <td>f</td>\n",
       "      <td>1.219</td>\n",
       "      <td>14.5</td>\n",
       "    </tr>\n",
       "    <tr>\n",
       "      <th>62</th>\n",
       "      <td>als11</td>\n",
       "      <td>subjects</td>\n",
       "      <td>39.0</td>\n",
       "      <td>1.88</td>\n",
       "      <td>83.92</td>\n",
       "      <td>m</td>\n",
       "      <td>1.283</td>\n",
       "      <td>7.0</td>\n",
       "    </tr>\n",
       "    <tr>\n",
       "      <th>63</th>\n",
       "      <td>als12</td>\n",
       "      <td>subjects</td>\n",
       "      <td>62.0</td>\n",
       "      <td>1.78</td>\n",
       "      <td>117.5</td>\n",
       "      <td>m</td>\n",
       "      <td>0.831</td>\n",
       "      <td>12.0</td>\n",
       "    </tr>\n",
       "    <tr>\n",
       "      <th>64</th>\n",
       "      <td>als13</td>\n",
       "      <td>subjects</td>\n",
       "      <td>66.0</td>\n",
       "      <td>1.83</td>\n",
       "      <td>MISSING</td>\n",
       "      <td>m</td>\n",
       "      <td>0.832</td>\n",
       "      <td>34.0</td>\n",
       "    </tr>\n",
       "  </tbody>\n",
       "</table>\n",
       "</div>"
      ],
      "text/plain": [
       "   Unnamed: 0     GROUP  AGE(YRS)  HEIGHT(meters) Weight(kg) gender  \\\n",
       "60       als9  subjects      50.0            1.58      61.24      m   \n",
       "61      als10  subjects      40.0            1.70      61.24      f   \n",
       "62      als11  subjects      39.0            1.88      83.92      m   \n",
       "63      als12  subjects      62.0            1.78      117.5      m   \n",
       "64      als13  subjects      66.0            1.83    MISSING      m   \n",
       "\n",
       "   GaitSpeed(m/sec)  Duration/Severity  \n",
       "60            0.899               54.0  \n",
       "61            1.219               14.5  \n",
       "62            1.283                7.0  \n",
       "63            0.831               12.0  \n",
       "64            0.832               34.0  "
      ]
     },
     "execution_count": 5,
     "metadata": {},
     "output_type": "execute_result"
    }
   ],
   "source": [
    "subject_info.tail()"
   ]
  },
  {
   "cell_type": "code",
   "execution_count": 6,
   "id": "d5b0b348-6d49-4dda-9488-5b5fc75088bc",
   "metadata": {},
   "outputs": [
    {
     "name": "stdout",
     "output_type": "stream",
     "text": [
      "Total .ts files found: 64\n"
     ]
    }
   ],
   "source": [
    "#time series files\n",
    "ts_files = glob.glob(\"*.ts\")\n",
    "print(f\"Total .ts files found: {len(ts_files)}\")"
   ]
  },
  {
   "cell_type": "code",
   "execution_count": 7,
   "id": "c83258cd-09d9-4ee5-87f5-b5aa132fd511",
   "metadata": {},
   "outputs": [
    {
     "name": "stdout",
     "output_type": "stream",
     "text": [
      "Index(['Unnamed: 0', 'GROUP', 'AGE(YRS)', 'HEIGHT(meters)', 'Weight(kg)',\n",
      "       'gender', 'GaitSpeed(m/sec)', 'Duration/Severity'],\n",
      "      dtype='object')\n"
     ]
    }
   ],
   "source": [
    "print(subject_info.columns)"
   ]
  },
  {
   "cell_type": "code",
   "execution_count": 8,
   "id": "554291da-3215-402b-9306-b227240762e4",
   "metadata": {},
   "outputs": [],
   "source": [
    "data_dict = {}\n",
    "\n",
    "for file in ts_files:\n",
    "    subject_id = file.replace(\".ts\", \"\")\n",
    "    \n",
    "    # Load time series data\n",
    "    ts_data = pd.read_csv(file, sep=r\"\\s+\", header=None)\n",
    "    ts_data.columns = [\n",
    "        \"Time\", \"L_Stride\", \"R_Stride\", \"L_Swing\", \"R_Swing\", \n",
    "        \"L_Swing%\", \"R_Swing%\", \"L_Stance\", \"R_Stance\", \n",
    "        \"L_Stance%\", \"R_Stance%\", \"DoubleSupport\", \"DoubleSupport%\"\n",
    "    ]\n",
    "    \n",
    "    # Get subject-level info\n",
    "    subj_info_row = subject_info[subject_info[\"Unnamed: 0\"] == subject_id]\n",
    "    \n",
    "    if not subj_info_row.empty:\n",
    "        data_dict[subject_id] = {\n",
    "            \"group\": subject_id.split(\"0\")[0],  # crude label e.g., 'park', 'hunt'\n",
    "            \"time_series\": ts_data,\n",
    "            \"info\": subj_info_row.to_dict(orient=\"records\")[0]\n",
    "        }\n",
    "    else:\n",
    "        print(f\"Warning: {subject_id} not found in subject-description.txt\")\n"
   ]
  },
  {
   "cell_type": "code",
   "execution_count": 9,
   "id": "c4ebd436-f568-4567-be31-c216598dddb4",
   "metadata": {},
   "outputs": [
    {
     "data": {
      "text/plain": [
       "64"
      ]
     },
     "execution_count": 9,
     "metadata": {},
     "output_type": "execute_result"
    }
   ],
   "source": [
    "len(data_dict)\n"
   ]
  },
  {
   "cell_type": "code",
   "execution_count": 10,
   "id": "9df32837-8348-4aab-aeab-788be2fab436",
   "metadata": {},
   "outputs": [
    {
     "data": {
      "text/plain": [
       "['als1', 'als10', 'als11', 'als12', 'als13']"
      ]
     },
     "execution_count": 10,
     "metadata": {},
     "output_type": "execute_result"
    }
   ],
   "source": [
    "list(data_dict.keys())[:5]  # show first 5 subject IDs\n"
   ]
  },
  {
   "cell_type": "code",
   "execution_count": 11,
   "id": "a21d015e-b216-4962-b147-1cd59db8333f",
   "metadata": {},
   "outputs": [
    {
     "name": "stdout",
     "output_type": "stream",
     "text": [
      "Group: park1\n",
      "\n",
      "Subject Info:\n",
      "{'Unnamed: 0': 'park1', 'GROUP': 'park', 'AGE(YRS)': 77.0, 'HEIGHT(meters)': 2.0, 'Weight(kg)': '86', 'gender': 'm', 'GaitSpeed(m/sec)': '0.98', 'Duration/Severity': 4.0}\n",
      "\n",
      "Time Series Head:\n",
      "      Time  L_Stride  R_Stride  L_Swing  R_Swing  L_Swing%  R_Swing%  \\\n",
      "0  21.7700    1.1333    1.0933   0.3700   0.3300     32.65     30.18   \n",
      "1  22.8767    1.1067    1.1200   0.3800   0.3500     34.34     31.25   \n",
      "2  24.0833    1.2067    1.1467   0.4467   0.3800     37.02     33.14   \n",
      "3  25.1667    1.0833    1.1200   0.3567   0.3133     32.92     27.98   \n",
      "4  26.3433    1.1767    1.1567   0.4333   0.3633     36.83     31.41   \n",
      "\n",
      "   L_Stance  R_Stance  L_Stance%  R_Stance%  DoubleSupport  DoubleSupport%  \n",
      "0    0.7633    0.7633      67.35      69.82         0.4333           38.24  \n",
      "1    0.7267    0.7700      65.66      68.75         0.3767           34.04  \n",
      "2    0.7600    0.7667      62.98      66.86         0.3800           31.49  \n",
      "3    0.7267    0.8067      67.08      72.02         0.4133           38.15  \n",
      "4    0.7433    0.7933      63.17      68.59         0.3800           32.29  \n"
     ]
    }
   ],
   "source": [
    "sample = data_dict[\"park1\"]\n",
    "print(\"Group:\", sample[\"group\"])\n",
    "print(\"\\nSubject Info:\")\n",
    "print(sample[\"info\"])\n",
    "print(\"\\nTime Series Head:\")\n",
    "print(sample[\"time_series\"].head())\n"
   ]
  },
  {
   "cell_type": "code",
   "execution_count": 12,
   "id": "4754658f-cc0c-4c95-a8af-b31d6effe612",
   "metadata": {},
   "outputs": [],
   "source": [
    "for sid, record in data_dict.items():\n",
    "    if record[\"time_series\"].isnull().values.any():\n",
    "        print(f\"Missing values in: {sid}\")\n"
   ]
  },
  {
   "cell_type": "code",
   "execution_count": 13,
   "id": "02092716-c2f8-4f74-b922-143432ef4fed",
   "metadata": {},
   "outputs": [],
   "source": [
    "for sid, record in data_dict.items():\n",
    "    if not {\"group\", \"info\", \"time_series\"}.issubset(record.keys()):\n",
    "        print(f\"Incomplete entry: {sid}\")\n"
   ]
  },
  {
   "cell_type": "code",
   "execution_count": 17,
   "id": "30a93f4d-dd1f-4537-b8b9-e134eace23c4",
   "metadata": {},
   "outputs": [
    {
     "data": {
      "image/png": "[encoded data removed]",
      "text/plain": [
       "<Figure size 1000x400 with 1 Axes>"
      ]
     },
     "metadata": {},
     "output_type": "display_data"
    }
   ],
   "source": [
    "import matplotlib.pyplot as plt\n",
    "\n",
    "# Choose a subject ID from data_dict\n",
    "subject_id = list(data_dict.keys())[1]  # or 'park01', 'hunt03', etc.\n",
    "\n",
    "# Extract time series data\n",
    "ts_data = data_dict[subject_id][\"time_series\"]\n",
    "\n",
    "# Plot Left Stride Interval vs Time\n",
    "plt.figure(figsize=(10, 4))\n",
    "plt.plot(ts_data[\"Time\"], ts_data[\"L_Stride\"], marker='o', linestyle='-', color='blue', label='Left Stride Interval')\n",
    "plt.xlabel(\"Time (s)\")\n",
    "plt.ylabel(\"Left Stride Interval (s)\")\n",
    "plt.title(f\"Left Stride Interval over Time ({subject_id})\")\n",
    "plt.grid(True)\n",
    "plt.legend()\n",
    "plt.tight_layout()\n",
    "plt.show()\n"
   ]
  },
  {
   "cell_type": "code",
   "execution_count": null,
   "id": "77df1760-41aa-458e-9850-757d51a16f25",
   "metadata": {},
   "outputs": [],
   "source": []
  }
 ],
 "metadata": {
  "kernelspec": {
   "display_name": "Python 3 (ipykernel)",
   "language": "python",
   "name": "python3"
  },
  "language_info": {
   "codemirror_mode": {
    "name": "ipython",
    "version": 3
   },
   "file_extension": ".py",
   "mimetype": "text/x-python",
   "name": "python",
   "nbconvert_exporter": "python",
   "pygments_lexer": "ipython3",
   "version": "3.12.10"
  }
 },
 "nbformat": 4,
 "nbformat_minor": 5
}
